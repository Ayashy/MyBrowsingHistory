{
 "cells": [
  {
   "cell_type": "markdown",
   "metadata": {},
   "source": [
    "### Creation d'un programme permettant de parser, traiter les données extraites à travers l'api Google history afin de les visualiser dans le dashboard en d3.js."
   ]
  },
  {
   "cell_type": "code",
   "execution_count": 82,
   "metadata": {},
   "outputs": [],
   "source": [
    "%matplotlib inline\n",
    "import datetime\n",
    "import json\n",
    "import tldextract\n",
    "import numpy as np\n",
    "import pandas as pd\n",
    "import seaborn as sns\n",
    "from matplotlib import pyplot as plt\n",
    "from PIL import Image\n"
   ]
  },
  {
   "cell_type": "code",
   "execution_count": 83,
   "metadata": {},
   "outputs": [],
   "source": [
    "with open(\"BrowserHistory.json\",encoding='utf_8') as f:\n",
    "    data = json.loads(f.read())\n",
    "    df = pd.DataFrame(data[\"Browser History\"])"
   ]
  },
  {
   "cell_type": "code",
   "execution_count": 84,
   "metadata": {},
   "outputs": [
    {
     "data": {
      "text/plain": [
       "Index(['client_id', 'favicon_url', 'page_transition', 'time_usec', 'title',\n",
       "       'url'],\n",
       "      dtype='object')"
      ]
     },
     "execution_count": 84,
     "metadata": {},
     "output_type": "execute_result"
    }
   ],
   "source": [
    "#df.drop('client_id', axis=1, inplace=True)\n",
    "#df.drop('favicon_url', axis=1, inplace=True)\n",
    "df.columns"
   ]
  },
  {
   "cell_type": "markdown",
   "metadata": {},
   "source": [
    "Pour commencer, on doit reformater l'heure (en microsecondes) vers format datetime plus lisible. Ensuite, je devais en tirer des caractéristiques telles que l'heure, le jour, le mois ou le jour de la semaine."
   ]
  },
  {
   "cell_type": "code",
   "execution_count": 85,
   "metadata": {},
   "outputs": [],
   "source": [
    "def convert_time(x):\n",
    "    return datetime.datetime.fromtimestamp(x/1000000)\n",
    "df['dt'] = df['time_usec'].apply(convert_time)"
   ]
  },
  {
   "cell_type": "code",
   "execution_count": 86,
   "metadata": {},
   "outputs": [],
   "source": [
    "def get_date(x):\n",
    "    return str(x.date())\n",
    "df['date'] = df['dt'].apply(get_date)"
   ]
  },
  {
   "cell_type": "code",
   "execution_count": 87,
   "metadata": {},
   "outputs": [],
   "source": [
    "def get_hour(x):\n",
    "    return int(x.hour)\n",
    "df['hour'] = df['dt'].apply(get_hour)"
   ]
  },
  {
   "cell_type": "code",
   "execution_count": 88,
   "metadata": {},
   "outputs": [],
   "source": [
    "def get_day(x):\n",
    "    return int(x.day)\n",
    "df['day'] = df['dt'].apply(get_day)"
   ]
  },
  {
   "cell_type": "code",
   "execution_count": 89,
   "metadata": {},
   "outputs": [],
   "source": [
    "def get_month(x):\n",
    "    return int(x.month)\n",
    "df['month'] = df['dt'].apply(get_month)"
   ]
  },
  {
   "cell_type": "code",
   "execution_count": 90,
   "metadata": {},
   "outputs": [],
   "source": [
    "def get_year(x):\n",
    "    return int(x.year)\n",
    "df['year'] = df['dt'].apply(get_year)"
   ]
  },
  {
   "cell_type": "code",
   "execution_count": 91,
   "metadata": {},
   "outputs": [],
   "source": [
    "def get_is_secure(x):\n",
    "    if x.startswith(\"https\"):\n",
    "        return \"Y\"\n",
    "    return \"N\"\n",
    "df['is_secure'] = df['url'].apply(get_is_secure)"
   ]
  },
  {
   "cell_type": "code",
   "execution_count": 92,
   "metadata": {},
   "outputs": [],
   "source": [
    "def get_is_weekend(x):\n",
    "    if x.weekday() >= 5:\n",
    "        return \"Y\"\n",
    "    return \"N\"\n",
    "df['is_weekend'] = df['dt'].apply(get_is_weekend)\n"
   ]
  },
  {
   "cell_type": "code",
   "execution_count": 93,
   "metadata": {},
   "outputs": [],
   "source": [
    "def get_weekday(x):\n",
    "    return x.weekday()+1\n",
    "df['weekday'] = df['dt'].apply(get_weekday)"
   ]
  },
  {
   "cell_type": "code",
   "execution_count": 94,
   "metadata": {},
   "outputs": [],
   "source": [
    "days_arr = [\"Mon\",\"Tue\", \"Wed\", \"Thu\", \"Fri\", \"Sat\", \"Sun\"]\n",
    "def get_day_of_week(x):\n",
    "    return days_arr[x.weekday()]\n",
    "df['day_of_week'] = df['dt'].apply(get_day_of_week)"
   ]
  },
  {
   "cell_type": "markdown",
   "metadata": {},
   "source": [
    "A Partir du champ URL, l'extraction du domaine peut constituer une donnée utile pour l'analyse. J'ai donc utilisé tldextract pour créer une nouvelle colonne de domaine dans une nouvelle colonne."
   ]
  },
  {
   "cell_type": "code",
   "execution_count": 95,
   "metadata": {},
   "outputs": [],
   "source": [
    "def get_domain(x):\n",
    "    domain = tldextract.extract(x)[1]\n",
    "    sub_domain = tldextract.extract(x)[0]\n",
    "    if sub_domain == \"mail\":\n",
    "        return sub_domain + \".\" + domain\n",
    "    if domain == \"google\" and sub_domain==\"www\":\n",
    "        return \"google_search\"\n",
    "    return domain\n",
    "df['domain'] = df['url'].apply(get_domain)"
   ]
  },
  {
   "cell_type": "markdown",
   "metadata": {},
   "source": [
    "Ensuite, j'ai extrapolé les informations de domaine pour regrouper les domaines bien connus dans l'une ou l'autre des catégories prédéfinies :"
   ]
  },
  {
   "cell_type": "code",
   "execution_count": 96,
   "metadata": {},
   "outputs": [],
   "source": [
    "def get_category(x):\n",
    "    if x in [\"stackoverflow\",\"coursera\", \"udemy\", \"fast\", \"kaggle\",\"github\",\"quora\",\"overleaf\",\"localhost\",\"ec-lyon\"]:\n",
    "        return \"Learning\"\n",
    "    elif x in [\"ycombinator\", \"medium\", \"hackernoon\", \"codechef\"]:\n",
    "        return \"TechReads\"\n",
    "    elif x in [\"facebook\", \"twitter\", \"instagram\",\"linkedin\",\"youtube\"]:\n",
    "        return \"Social\"\n",
    "    elif x in [\"mail.google\", \"slack.com\",\"gmail.com\"]:\n",
    "        return \"Email\"\n",
    "    elif x in [\"cdiscount\", \"amazon\", \"myprotein\", \"dealabs\"]:\n",
    "        return \"Shopping\"\n",
    "    elif x in [\"airbnb\", \"skyscanner\", \"sncf\", \"ouibus\"]:\n",
    "        return \"TravelBookings\"\n",
    "    elif x in [\"google_search\"]:\n",
    "        return \"Search\"\n",
    "    else:\n",
    "        return \"Other\"\n",
    "df['category'] = df['domain'].apply(get_category)"
   ]
  },
  {
   "cell_type": "markdown",
   "metadata": {},
   "source": [
    "page_transition: Contient des informations sur le type de transition vers la page comme reload, type & enter, lien ouvert, etc. On se contente de LINK et TYPED ."
   ]
  },
  {
   "cell_type": "code",
   "execution_count": 97,
   "metadata": {},
   "outputs": [],
   "source": [
    "df = df[(df['page_transition'] == \"LINK\") | (df['page_transition'] == \"TYPED\")]\n",
    "df = df[df['domain'] != 'newtab']\n"
   ]
  },
  {
   "cell_type": "code",
   "execution_count": 98,
   "metadata": {},
   "outputs": [
    {
     "data": {
      "text/html": [
       "<div>\n",
       "<style scoped>\n",
       "    .dataframe tbody tr th:only-of-type {\n",
       "        vertical-align: middle;\n",
       "    }\n",
       "\n",
       "    .dataframe tbody tr th {\n",
       "        vertical-align: top;\n",
       "    }\n",
       "\n",
       "    .dataframe thead th {\n",
       "        text-align: right;\n",
       "    }\n",
       "</style>\n",
       "<table border=\"1\" class=\"dataframe\">\n",
       "  <thead>\n",
       "    <tr style=\"text-align: right;\">\n",
       "      <th></th>\n",
       "      <th>client_id</th>\n",
       "      <th>favicon_url</th>\n",
       "      <th>page_transition</th>\n",
       "      <th>time_usec</th>\n",
       "      <th>title</th>\n",
       "      <th>url</th>\n",
       "      <th>dt</th>\n",
       "      <th>date</th>\n",
       "      <th>hour</th>\n",
       "      <th>day</th>\n",
       "      <th>month</th>\n",
       "      <th>year</th>\n",
       "      <th>is_secure</th>\n",
       "      <th>is_weekend</th>\n",
       "      <th>weekday</th>\n",
       "      <th>day_of_week</th>\n",
       "      <th>domain</th>\n",
       "      <th>category</th>\n",
       "    </tr>\n",
       "  </thead>\n",
       "  <tbody>\n",
       "    <tr>\n",
       "      <th>0</th>\n",
       "      <td>+D4DzvHGqVjhFxnK0GiSmw==</td>\n",
       "      <td>https://www.google.com/favicon.ico</td>\n",
       "      <td>LINK</td>\n",
       "      <td>1552059796405743</td>\n",
       "      <td>Download your data</td>\n",
       "      <td>https://takeout.google.com/settings/takeout?hl=en</td>\n",
       "      <td>2019-03-08 16:43:16.405743</td>\n",
       "      <td>2019-03-08</td>\n",
       "      <td>16</td>\n",
       "      <td>8</td>\n",
       "      <td>3</td>\n",
       "      <td>2019</td>\n",
       "      <td>Y</td>\n",
       "      <td>N</td>\n",
       "      <td>5</td>\n",
       "      <td>Fri</td>\n",
       "      <td>google</td>\n",
       "      <td>Other</td>\n",
       "    </tr>\n",
       "    <tr>\n",
       "      <th>1</th>\n",
       "      <td>+D4DzvHGqVjhFxnK0GiSmw==</td>\n",
       "      <td>https://www.google.com/favicon.ico</td>\n",
       "      <td>LINK</td>\n",
       "      <td>1552059791998311</td>\n",
       "      <td>Download your data</td>\n",
       "      <td>https://takeout.google.com/settings/takeout?hl=en</td>\n",
       "      <td>2019-03-08 16:43:11.998311</td>\n",
       "      <td>2019-03-08</td>\n",
       "      <td>16</td>\n",
       "      <td>8</td>\n",
       "      <td>3</td>\n",
       "      <td>2019</td>\n",
       "      <td>Y</td>\n",
       "      <td>N</td>\n",
       "      <td>5</td>\n",
       "      <td>Fri</td>\n",
       "      <td>google</td>\n",
       "      <td>Other</td>\n",
       "    </tr>\n",
       "    <tr>\n",
       "      <th>2</th>\n",
       "      <td>+D4DzvHGqVjhFxnK0GiSmw==</td>\n",
       "      <td>https://www.google.com/favicon.ico</td>\n",
       "      <td>LINK</td>\n",
       "      <td>1552059783335198</td>\n",
       "      <td>Download your data</td>\n",
       "      <td>https://takeout.google.com/settings/takeout?hl=en</td>\n",
       "      <td>2019-03-08 16:43:03.335198</td>\n",
       "      <td>2019-03-08</td>\n",
       "      <td>16</td>\n",
       "      <td>8</td>\n",
       "      <td>3</td>\n",
       "      <td>2019</td>\n",
       "      <td>Y</td>\n",
       "      <td>N</td>\n",
       "      <td>5</td>\n",
       "      <td>Fri</td>\n",
       "      <td>google</td>\n",
       "      <td>Other</td>\n",
       "    </tr>\n",
       "    <tr>\n",
       "      <th>3</th>\n",
       "      <td>+D4DzvHGqVjhFxnK0GiSmw==</td>\n",
       "      <td>https://www.google.com/favicon.ico</td>\n",
       "      <td>LINK</td>\n",
       "      <td>1552059775617845</td>\n",
       "      <td>Manage archives</td>\n",
       "      <td>https://takeout.google.com/settings/takeout/do...</td>\n",
       "      <td>2019-03-08 16:42:55.617845</td>\n",
       "      <td>2019-03-08</td>\n",
       "      <td>16</td>\n",
       "      <td>8</td>\n",
       "      <td>3</td>\n",
       "      <td>2019</td>\n",
       "      <td>Y</td>\n",
       "      <td>N</td>\n",
       "      <td>5</td>\n",
       "      <td>Fri</td>\n",
       "      <td>google</td>\n",
       "      <td>Other</td>\n",
       "    </tr>\n",
       "    <tr>\n",
       "      <th>4</th>\n",
       "      <td>+D4DzvHGqVjhFxnK0GiSmw==</td>\n",
       "      <td>https://www.google.com/favicon.ico</td>\n",
       "      <td>LINK</td>\n",
       "      <td>1552059769488982</td>\n",
       "      <td>Download your data</td>\n",
       "      <td>https://takeout.google.com/?hl=en&amp;utm_source=g...</td>\n",
       "      <td>2019-03-08 16:42:49.488982</td>\n",
       "      <td>2019-03-08</td>\n",
       "      <td>16</td>\n",
       "      <td>8</td>\n",
       "      <td>3</td>\n",
       "      <td>2019</td>\n",
       "      <td>Y</td>\n",
       "      <td>N</td>\n",
       "      <td>5</td>\n",
       "      <td>Fri</td>\n",
       "      <td>google</td>\n",
       "      <td>Other</td>\n",
       "    </tr>\n",
       "    <tr>\n",
       "      <th>5</th>\n",
       "      <td>+D4DzvHGqVjhFxnK0GiSmw==</td>\n",
       "      <td>https://www.google.com/favicon.ico</td>\n",
       "      <td>LINK</td>\n",
       "      <td>1552059760283889</td>\n",
       "      <td>Google Account</td>\n",
       "      <td>https://myaccount.google.com/data-and-personal...</td>\n",
       "      <td>2019-03-08 16:42:40.283889</td>\n",
       "      <td>2019-03-08</td>\n",
       "      <td>16</td>\n",
       "      <td>8</td>\n",
       "      <td>3</td>\n",
       "      <td>2019</td>\n",
       "      <td>Y</td>\n",
       "      <td>N</td>\n",
       "      <td>5</td>\n",
       "      <td>Fri</td>\n",
       "      <td>google</td>\n",
       "      <td>Other</td>\n",
       "    </tr>\n",
       "    <tr>\n",
       "      <th>6</th>\n",
       "      <td>+D4DzvHGqVjhFxnK0GiSmw==</td>\n",
       "      <td>https://www.google.com/favicon.ico</td>\n",
       "      <td>LINK</td>\n",
       "      <td>1552059757008575</td>\n",
       "      <td>Google Account</td>\n",
       "      <td>https://myaccount.google.com/</td>\n",
       "      <td>2019-03-08 16:42:37.008575</td>\n",
       "      <td>2019-03-08</td>\n",
       "      <td>16</td>\n",
       "      <td>8</td>\n",
       "      <td>3</td>\n",
       "      <td>2019</td>\n",
       "      <td>Y</td>\n",
       "      <td>N</td>\n",
       "      <td>5</td>\n",
       "      <td>Fri</td>\n",
       "      <td>google</td>\n",
       "      <td>Other</td>\n",
       "    </tr>\n",
       "    <tr>\n",
       "      <th>7</th>\n",
       "      <td>+D4DzvHGqVjhFxnK0GiSmw==</td>\n",
       "      <td>https://support.google.com/favicon.ico</td>\n",
       "      <td>LINK</td>\n",
       "      <td>1552059752432987</td>\n",
       "      <td>Download your data - Google Account Help</td>\n",
       "      <td>https://support.google.com/accounts/answer/302...</td>\n",
       "      <td>2019-03-08 16:42:32.432987</td>\n",
       "      <td>2019-03-08</td>\n",
       "      <td>16</td>\n",
       "      <td>8</td>\n",
       "      <td>3</td>\n",
       "      <td>2019</td>\n",
       "      <td>Y</td>\n",
       "      <td>N</td>\n",
       "      <td>5</td>\n",
       "      <td>Fri</td>\n",
       "      <td>google</td>\n",
       "      <td>Other</td>\n",
       "    </tr>\n",
       "    <tr>\n",
       "      <th>11</th>\n",
       "      <td>+D4DzvHGqVjhFxnK0GiSmw==</td>\n",
       "      <td>NaN</td>\n",
       "      <td>LINK</td>\n",
       "      <td>1552058969297305</td>\n",
       "      <td>BrowserHistoryPaser (1)</td>\n",
       "      <td>http://localhost:8888/notebooks/BrowserHistory...</td>\n",
       "      <td>2019-03-08 16:29:29.297305</td>\n",
       "      <td>2019-03-08</td>\n",
       "      <td>16</td>\n",
       "      <td>8</td>\n",
       "      <td>3</td>\n",
       "      <td>2019</td>\n",
       "      <td>N</td>\n",
       "      <td>N</td>\n",
       "      <td>5</td>\n",
       "      <td>Fri</td>\n",
       "      <td>localhost</td>\n",
       "      <td>Learning</td>\n",
       "    </tr>\n",
       "    <tr>\n",
       "      <th>12</th>\n",
       "      <td>+D4DzvHGqVjhFxnK0GiSmw==</td>\n",
       "      <td>NaN</td>\n",
       "      <td>LINK</td>\n",
       "      <td>1552058930558356</td>\n",
       "      <td></td>\n",
       "      <td>https://l.facebook.com/l.php?u=https%3A%2F%2Fc...</td>\n",
       "      <td>2019-03-08 16:28:50.558356</td>\n",
       "      <td>2019-03-08</td>\n",
       "      <td>16</td>\n",
       "      <td>8</td>\n",
       "      <td>3</td>\n",
       "      <td>2019</td>\n",
       "      <td>Y</td>\n",
       "      <td>N</td>\n",
       "      <td>5</td>\n",
       "      <td>Fri</td>\n",
       "      <td>facebook</td>\n",
       "      <td>Social</td>\n",
       "    </tr>\n",
       "  </tbody>\n",
       "</table>\n",
       "</div>"
      ],
      "text/plain": [
       "                   client_id                             favicon_url  \\\n",
       "0   +D4DzvHGqVjhFxnK0GiSmw==      https://www.google.com/favicon.ico   \n",
       "1   +D4DzvHGqVjhFxnK0GiSmw==      https://www.google.com/favicon.ico   \n",
       "2   +D4DzvHGqVjhFxnK0GiSmw==      https://www.google.com/favicon.ico   \n",
       "3   +D4DzvHGqVjhFxnK0GiSmw==      https://www.google.com/favicon.ico   \n",
       "4   +D4DzvHGqVjhFxnK0GiSmw==      https://www.google.com/favicon.ico   \n",
       "5   +D4DzvHGqVjhFxnK0GiSmw==      https://www.google.com/favicon.ico   \n",
       "6   +D4DzvHGqVjhFxnK0GiSmw==      https://www.google.com/favicon.ico   \n",
       "7   +D4DzvHGqVjhFxnK0GiSmw==  https://support.google.com/favicon.ico   \n",
       "11  +D4DzvHGqVjhFxnK0GiSmw==                                     NaN   \n",
       "12  +D4DzvHGqVjhFxnK0GiSmw==                                     NaN   \n",
       "\n",
       "   page_transition         time_usec  \\\n",
       "0             LINK  1552059796405743   \n",
       "1             LINK  1552059791998311   \n",
       "2             LINK  1552059783335198   \n",
       "3             LINK  1552059775617845   \n",
       "4             LINK  1552059769488982   \n",
       "5             LINK  1552059760283889   \n",
       "6             LINK  1552059757008575   \n",
       "7             LINK  1552059752432987   \n",
       "11            LINK  1552058969297305   \n",
       "12            LINK  1552058930558356   \n",
       "\n",
       "                                       title  \\\n",
       "0                         Download your data   \n",
       "1                         Download your data   \n",
       "2                         Download your data   \n",
       "3                            Manage archives   \n",
       "4                         Download your data   \n",
       "5                             Google Account   \n",
       "6                             Google Account   \n",
       "7   Download your data - Google Account Help   \n",
       "11                   BrowserHistoryPaser (1)   \n",
       "12                                             \n",
       "\n",
       "                                                  url  \\\n",
       "0   https://takeout.google.com/settings/takeout?hl=en   \n",
       "1   https://takeout.google.com/settings/takeout?hl=en   \n",
       "2   https://takeout.google.com/settings/takeout?hl=en   \n",
       "3   https://takeout.google.com/settings/takeout/do...   \n",
       "4   https://takeout.google.com/?hl=en&utm_source=g...   \n",
       "5   https://myaccount.google.com/data-and-personal...   \n",
       "6                       https://myaccount.google.com/   \n",
       "7   https://support.google.com/accounts/answer/302...   \n",
       "11  http://localhost:8888/notebooks/BrowserHistory...   \n",
       "12  https://l.facebook.com/l.php?u=https%3A%2F%2Fc...   \n",
       "\n",
       "                           dt        date  hour  day  month  year is_secure  \\\n",
       "0  2019-03-08 16:43:16.405743  2019-03-08    16    8      3  2019         Y   \n",
       "1  2019-03-08 16:43:11.998311  2019-03-08    16    8      3  2019         Y   \n",
       "2  2019-03-08 16:43:03.335198  2019-03-08    16    8      3  2019         Y   \n",
       "3  2019-03-08 16:42:55.617845  2019-03-08    16    8      3  2019         Y   \n",
       "4  2019-03-08 16:42:49.488982  2019-03-08    16    8      3  2019         Y   \n",
       "5  2019-03-08 16:42:40.283889  2019-03-08    16    8      3  2019         Y   \n",
       "6  2019-03-08 16:42:37.008575  2019-03-08    16    8      3  2019         Y   \n",
       "7  2019-03-08 16:42:32.432987  2019-03-08    16    8      3  2019         Y   \n",
       "11 2019-03-08 16:29:29.297305  2019-03-08    16    8      3  2019         N   \n",
       "12 2019-03-08 16:28:50.558356  2019-03-08    16    8      3  2019         Y   \n",
       "\n",
       "   is_weekend  weekday day_of_week     domain  category  \n",
       "0           N        5         Fri     google     Other  \n",
       "1           N        5         Fri     google     Other  \n",
       "2           N        5         Fri     google     Other  \n",
       "3           N        5         Fri     google     Other  \n",
       "4           N        5         Fri     google     Other  \n",
       "5           N        5         Fri     google     Other  \n",
       "6           N        5         Fri     google     Other  \n",
       "7           N        5         Fri     google     Other  \n",
       "11          N        5         Fri  localhost  Learning  \n",
       "12          N        5         Fri   facebook    Social  "
      ]
     },
     "execution_count": 98,
     "metadata": {},
     "output_type": "execute_result"
    }
   ],
   "source": [
    "df.head(10)"
   ]
  },
  {
   "cell_type": "code",
   "execution_count": null,
   "metadata": {},
   "outputs": [],
   "source": []
  },
  {
   "cell_type": "markdown",
   "metadata": {},
   "source": [
    "### Learning by hour for a month"
   ]
  },
  {
   "cell_type": "code",
   "execution_count": 99,
   "metadata": {},
   "outputs": [
    {
     "data": {
      "image/png": "[encoded data removed]",
      "text/plain": [
       "<Figure size 432x288 with 1 Axes>"
      ]
     },
     "metadata": {
      "needs_background": "light"
     },
     "output_type": "display_data"
    }
   ],
   "source": [
    "sns.countplot(x=\"hour\", data=df[(df['category'] == \"Learning\") ]);\n"
   ]
  },
  {
   "cell_type": "code",
   "execution_count": 100,
   "metadata": {},
   "outputs": [
    {
     "data": {
      "image/png": "[encoded data removed]",
      "text/plain": [
       "<Figure size 432x288 with 1 Axes>"
      ]
     },
     "metadata": {
      "needs_background": "light"
     },
     "output_type": "display_data"
    }
   ],
   "source": [
    "#sns.countplot(x=\"hour\", data=df[(df['category'] == \"Learning\") & (df[\"month\"] == 1)]);\n",
    "sns.countplot(x=\"month\", data=df[(df['category'] == \"Learning\" ) ]);\n"
   ]
  },
  {
   "cell_type": "markdown",
   "metadata": {},
   "source": [
    "### Browser usage over months"
   ]
  },
  {
   "cell_type": "code",
   "execution_count": 101,
   "metadata": {},
   "outputs": [],
   "source": [
    "df_new = df[(df[\"month\"] >= 11)].groupby([\"hour\", \"date\"])[\"domain\"].nunique()\n",
    "df_new = df_new.reset_index(name=\"count\")"
   ]
  },
  {
   "cell_type": "code",
   "execution_count": 102,
   "metadata": {},
   "outputs": [
    {
     "data": {
      "text/plain": [
       "<matplotlib.axes._subplots.AxesSubplot at 0x21489fe47b8>"
      ]
     },
     "execution_count": 102,
     "metadata": {},
     "output_type": "execute_result"
    },
    {
     "data": {
      "image/png": "[encoded data removed]",
      "text/plain": [
       "<Figure size 1152x360 with 2 Axes>"
      ]
     },
     "metadata": {
      "needs_background": "light"
     },
     "output_type": "display_data"
    }
   ],
   "source": [
    "plt.figure(figsize = (16,5))\n",
    "sns.heatmap(df_new.pivot(\"hour\", \"date\", \"count\"), annot=False, cmap=\"PuBuGn\")"
   ]
  },
  {
   "cell_type": "markdown",
   "metadata": {},
   "source": [
    "### Youtube usage by hour"
   ]
  },
  {
   "cell_type": "code",
   "execution_count": 103,
   "metadata": {},
   "outputs": [
    {
     "data": {
      "image/png": "[encoded data removed]",
      "text/plain": [
       "<Figure size 432x288 with 1 Axes>"
      ]
     },
     "metadata": {
      "needs_background": "light"
     },
     "output_type": "display_data"
    }
   ],
   "source": [
    "sns.countplot(x=\"month\", hue=\"is_weekend\", data=df[(df['domain'] == \"youtube\")] );\n"
   ]
  },
  {
   "cell_type": "markdown",
   "metadata": {},
   "source": [
    "### Facebook usage by hour"
   ]
  },
  {
   "cell_type": "code",
   "execution_count": 104,
   "metadata": {},
   "outputs": [
    {
     "data": {
      "image/png": "[encoded data removed]",
      "text/plain": [
       "<Figure size 432x288 with 1 Axes>"
      ]
     },
     "metadata": {
      "needs_background": "light"
     },
     "output_type": "display_data"
    }
   ],
   "source": [
    "sns.countplot(x=\"hour\", hue=\"is_weekend\", data=df[(df['domain'] == \"facebook\") & (df[\"month\"] == 10)]);\n"
   ]
  },
  {
   "cell_type": "code",
   "execution_count": 105,
   "metadata": {},
   "outputs": [],
   "source": [
    "#sns.countplot(x=\"hour\", hue=\"is_weekend\", data=df[((df['domain'] == \"youtube\")) & (df[\"month\"] == 10)]); "
   ]
  },
  {
   "cell_type": "code",
   "execution_count": 106,
   "metadata": {},
   "outputs": [],
   "source": [
    "#sns.countplot(x=\"hour\", hue=\"is_weekend\", data=df[((df['domain'] == \"stackoverflow\")) & (df[\"month\"] == 10)]);"
   ]
  },
  {
   "cell_type": "markdown",
   "metadata": {},
   "source": [
    "### Category visits by month"
   ]
  },
  {
   "cell_type": "code",
   "execution_count": 107,
   "metadata": {
    "scrolled": true
   },
   "outputs": [],
   "source": [
    "#plt.figure(figsize = (14,5))\n",
    "#sns.countplot(x=\"month\", hue=\"category\", data=df[(df['month'] > 6) & (df[\"category\"] != 'Other') & (df[\"category\"] != 'Email')]);"
   ]
  },
  {
   "cell_type": "code",
   "execution_count": 108,
   "metadata": {},
   "outputs": [
    {
     "data": {
      "image/png": "[encoded data removed]",
      "text/plain": [
       "<Figure size 1008x360 with 1 Axes>"
      ]
     },
     "metadata": {
      "needs_background": "light"
     },
     "output_type": "display_data"
    }
   ],
   "source": [
    "plt.figure(figsize = (14,5))\n",
    "sns.countplot(x=\"month\", hue=\"category\", data=df[df[\"category\"] != 'Other']);"
   ]
  },
  {
   "cell_type": "markdown",
   "metadata": {},
   "source": [
    "### Category visits by hour"
   ]
  },
  {
   "cell_type": "code",
   "execution_count": 109,
   "metadata": {},
   "outputs": [
    {
     "data": {
      "image/png": "[encoded data removed]",
      "text/plain": [
       "<Figure size 1008x360 with 1 Axes>"
      ]
     },
     "metadata": {
      "needs_background": "light"
     },
     "output_type": "display_data"
    }
   ],
   "source": [
    "plt.figure(figsize = (14,5))\n",
    "sns.countplot(x=\"hour\", hue=\"category\", data=df[(df[\"category\"] != 'Other') & (df[\"category\"] != 'Email')]);"
   ]
  },
  {
   "cell_type": "code",
   "execution_count": 110,
   "metadata": {},
   "outputs": [],
   "source": [
    "#df['domain'].value_counts()"
   ]
  },
  {
   "cell_type": "markdown",
   "metadata": {},
   "source": [
    "### Domain visits by month"
   ]
  },
  {
   "cell_type": "code",
   "execution_count": 111,
   "metadata": {},
   "outputs": [
    {
     "data": {
      "image/png": "[encoded data removed]",
      "text/plain": [
       "<Figure size 1008x360 with 1 Axes>"
      ]
     },
     "metadata": {
      "needs_background": "light"
     },
     "output_type": "display_data"
    }
   ],
   "source": [
    "plt.figure(figsize = (14,5))\n",
    "sns.countplot(x=\"month\", hue=\"domain\", data=df[df[\"category\"] != 'Other']);"
   ]
  },
  {
   "cell_type": "markdown",
   "metadata": {},
   "source": [
    "### Domain visits by hour"
   ]
  },
  {
   "cell_type": "code",
   "execution_count": 112,
   "metadata": {},
   "outputs": [
    {
     "data": {
      "image/png": "[encoded data removed]",
      "text/plain": [
       "<Figure size 1008x360 with 1 Axes>"
      ]
     },
     "metadata": {
      "needs_background": "light"
     },
     "output_type": "display_data"
    }
   ],
   "source": [
    "plt.figure(figsize = (14,5))\n",
    "sns.countplot(x=\"hour\", hue=\"domain\", data=df[(df[\"category\"] == 'Social') ]);"
   ]
  },
  {
   "cell_type": "code",
   "execution_count": 113,
   "metadata": {},
   "outputs": [],
   "source": [
    "#plt.figure(figsize = (14,5))\n",
    "#sns.countplot(x=\"hour\", hue=\"domain\", data=df[(df[\"category\"] == 'Learning') ]);"
   ]
  },
  {
   "cell_type": "markdown",
   "metadata": {},
   "source": [
    "### Category visits by weekday"
   ]
  },
  {
   "cell_type": "code",
   "execution_count": 114,
   "metadata": {},
   "outputs": [
    {
     "data": {
      "image/png": "[encoded data removed]",
      "text/plain": [
       "<Figure size 864x360 with 1 Axes>"
      ]
     },
     "metadata": {
      "needs_background": "light"
     },
     "output_type": "display_data"
    }
   ],
   "source": [
    "plt.figure(figsize = (12,5))\n",
    "sns.countplot(x=\"is_weekend\", hue=\"category\", data=df[(df[\"category\"] != 'Other') & (df[\"category\"] != 'Email')]);"
   ]
  },
  {
   "cell_type": "markdown",
   "metadata": {},
   "source": [
    "### Creating the new json file with aggregated data"
   ]
  },
  {
   "cell_type": "code",
   "execution_count": 115,
   "metadata": {},
   "outputs": [],
   "source": [
    "df_agg = df[['time_usec','favicon_url','url', 'page_transition','year',\n",
    "        'date', 'hour',  'day_of_week','domain', 'category']].where(df['year'] == 2018)"
   ]
  },
  {
   "cell_type": "markdown",
   "metadata": {},
   "source": [
    "#### Taking only data related to the 2018 year"
   ]
  },
  {
   "cell_type": "code",
   "execution_count": 116,
   "metadata": {},
   "outputs": [],
   "source": [
    "df_agg = df_agg[df_agg.year == 2018]\n"
   ]
  },
  {
   "cell_type": "markdown",
   "metadata": {},
   "source": [
    "#### Taking only data related to the used graphs in the dashboard ( to reduce file size )"
   ]
  },
  {
   "cell_type": "code",
   "execution_count": 117,
   "metadata": {},
   "outputs": [
    {
     "data": {
      "text/plain": [
       "Index(['time_usec', 'favicon_url', 'url', 'page_transition', 'year', 'date',\n",
       "       'hour', 'day_of_week', 'domain', 'category'],\n",
       "      dtype='object')"
      ]
     },
     "execution_count": 117,
     "metadata": {},
     "output_type": "execute_result"
    }
   ],
   "source": [
    "df_agg.columns"
   ]
  },
  {
   "cell_type": "code",
   "execution_count": 118,
   "metadata": {},
   "outputs": [],
   "source": [
    "df_agg = df_agg[['time_usec','favicon_url', 'page_transition', 'date', 'hour',  'day_of_week','domain', 'category']]"
   ]
  },
  {
   "cell_type": "code",
   "execution_count": 119,
   "metadata": {},
   "outputs": [
    {
     "data": {
      "text/plain": [
       "<bound method NDFrame.head of            time_usec                                        favicon_url  \\\n",
       "23377   1.546297e+15                                                NaN   \n",
       "23378   1.546297e+15                                                NaN   \n",
       "23379   1.546297e+15                                                NaN   \n",
       "23380   1.546297e+15                                                NaN   \n",
       "23381   1.546297e+15                                                NaN   \n",
       "23382   1.546297e+15                                                NaN   \n",
       "23383   1.546297e+15                                                NaN   \n",
       "23384   1.546297e+15                                                NaN   \n",
       "23385   1.546296e+15                                                NaN   \n",
       "23386   1.546296e+15                                                NaN   \n",
       "23388   1.546295e+15           https://pedagogie.ec-lyon.fr/favicon.ico   \n",
       "23389   1.546295e+15           https://pedagogie.ec-lyon.fr/favicon.ico   \n",
       "23390   1.546295e+15           https://pedagogie.ec-lyon.fr/favicon.ico   \n",
       "23391   1.546295e+15           https://pedagogie.ec-lyon.fr/favicon.ico   \n",
       "23392   1.546295e+15           https://pedagogie.ec-lyon.fr/favicon.ico   \n",
       "23393   1.546295e+15           https://pedagogie.ec-lyon.fr/favicon.ico   \n",
       "23394   1.546295e+15           https://pedagogie.ec-lyon.fr/favicon.ico   \n",
       "23395   1.546295e+15           https://pedagogie.ec-lyon.fr/favicon.ico   \n",
       "23396   1.546295e+15           https://pedagogie.ec-lyon.fr/favicon.ico   \n",
       "23398   1.546295e+15           https://pedagogie.ec-lyon.fr/favicon.ico   \n",
       "23399   1.546295e+15           https://pedagogie.ec-lyon.fr/favicon.ico   \n",
       "23400   1.546295e+15           https://pedagogie.ec-lyon.fr/favicon.ico   \n",
       "23401   1.546295e+15           https://pedagogie.ec-lyon.fr/favicon.ico   \n",
       "23402   1.546295e+15           https://pedagogie.ec-lyon.fr/favicon.ico   \n",
       "23403   1.546295e+15           https://pedagogie.ec-lyon.fr/favicon.ico   \n",
       "23404   1.546295e+15           https://pedagogie.ec-lyon.fr/favicon.ico   \n",
       "23405   1.546295e+15           https://pedagogie.ec-lyon.fr/favicon.ico   \n",
       "23406   1.546295e+15           https://pedagogie.ec-lyon.fr/favicon.ico   \n",
       "23407   1.546295e+15           https://pedagogie.ec-lyon.fr/favicon.ico   \n",
       "23408   1.546295e+15           https://pedagogie.ec-lyon.fr/favicon.ico   \n",
       "...              ...                                                ...   \n",
       "131650  1.518354e+15                                                NaN   \n",
       "131653  1.518354e+15  https://www.cihnet.co.ma/Portals/_default/Skin...   \n",
       "131654  1.518354e+15                                                NaN   \n",
       "131655  1.518354e+15                                                NaN   \n",
       "131656  1.518354e+15  https://ssl.gstatic.com/docs/documents/images/...   \n",
       "131657  1.518354e+15  https://ssl.gstatic.com/docs/documents/images/...   \n",
       "131658  1.518354e+15  https://ssl.gstatic.com/docs/documents/images/...   \n",
       "131659  1.518354e+15  https://ssl.gstatic.com/docs/documents/images/...   \n",
       "131660  1.518354e+15  https://ssl.gstatic.com/docs/documents/images/...   \n",
       "131661  1.518353e+15  https://ssl.gstatic.com/docs/doclist/images/in...   \n",
       "131662  1.518353e+15  https://ssl.gstatic.com/docs/doclist/images/in...   \n",
       "131663  1.518353e+15  https://www.cihnet.co.ma/Portals/_default/Skin...   \n",
       "131664  1.518353e+15  https://www.cihnet.co.ma/Portals/_default/Skin...   \n",
       "131665  1.518353e+15  https://www.cihnet.co.ma/Portals/_default/Skin...   \n",
       "131666  1.518353e+15  https://www.cihnet.co.ma/Portals/_default/Skin...   \n",
       "131667  1.518353e+15  https://www.cihnet.co.ma/Portals/_default/Skin...   \n",
       "131668  1.518353e+15  https://www.cihnet.co.ma/Portals/_default/Skin...   \n",
       "131669  1.518353e+15  https://ssl.gstatic.com/docs/doclist/images/in...   \n",
       "131670  1.518353e+15  https://ssl.gstatic.com/docs/doclist/images/in...   \n",
       "131671  1.518353e+15  https://ssl.gstatic.com/docs/doclist/images/in...   \n",
       "131672  1.518353e+15  https://ssl.gstatic.com/docs/doclist/images/in...   \n",
       "131673  1.518353e+15  https://ssl.gstatic.com/docs/doclist/images/in...   \n",
       "131674  1.518353e+15  https://ssl.gstatic.com/docs/doclist/images/in...   \n",
       "131676  1.518353e+15  https://www.cihnet.co.ma/Portals/_default/Skin...   \n",
       "131677  1.518353e+15  https://www.cihnet.co.ma/Portals/_default/Skin...   \n",
       "131680  1.518352e+15                                                NaN   \n",
       "131682  1.518352e+15                                                NaN   \n",
       "131683  1.518352e+15                                                NaN   \n",
       "131686  1.518352e+15                                                NaN   \n",
       "131688  1.518352e+15  https://static.xx.fbcdn.net/rsrc.php/yl/r/H3nk...   \n",
       "\n",
       "       page_transition        date  hour day_of_week  \\\n",
       "23377             LINK  2018-12-31  23.0         Mon   \n",
       "23378            TYPED  2018-12-31  23.0         Mon   \n",
       "23379             LINK  2018-12-31  23.0         Mon   \n",
       "23380            TYPED  2018-12-31  23.0         Mon   \n",
       "23381             LINK  2018-12-31  23.0         Mon   \n",
       "23382            TYPED  2018-12-31  23.0         Mon   \n",
       "23383             LINK  2018-12-31  23.0         Mon   \n",
       "23384            TYPED  2018-12-31  23.0         Mon   \n",
       "23385             LINK  2018-12-31  23.0         Mon   \n",
       "23386             LINK  2018-12-31  23.0         Mon   \n",
       "23388             LINK  2018-12-31  23.0         Mon   \n",
       "23389             LINK  2018-12-31  23.0         Mon   \n",
       "23390             LINK  2018-12-31  23.0         Mon   \n",
       "23391             LINK  2018-12-31  23.0         Mon   \n",
       "23392             LINK  2018-12-31  23.0         Mon   \n",
       "23393             LINK  2018-12-31  23.0         Mon   \n",
       "23394             LINK  2018-12-31  23.0         Mon   \n",
       "23395             LINK  2018-12-31  23.0         Mon   \n",
       "23396             LINK  2018-12-31  23.0         Mon   \n",
       "23398             LINK  2018-12-31  23.0         Mon   \n",
       "23399             LINK  2018-12-31  23.0         Mon   \n",
       "23400             LINK  2018-12-31  23.0         Mon   \n",
       "23401             LINK  2018-12-31  23.0         Mon   \n",
       "23402             LINK  2018-12-31  23.0         Mon   \n",
       "23403             LINK  2018-12-31  23.0         Mon   \n",
       "23404             LINK  2018-12-31  23.0         Mon   \n",
       "23405             LINK  2018-12-31  23.0         Mon   \n",
       "23406             LINK  2018-12-31  23.0         Mon   \n",
       "23407             LINK  2018-12-31  23.0         Mon   \n",
       "23408             LINK  2018-12-31  23.0         Mon   \n",
       "...                ...         ...   ...         ...   \n",
       "131650            LINK  2018-02-11  13.0         Sun   \n",
       "131653            LINK  2018-02-11  13.0         Sun   \n",
       "131654            LINK  2018-02-11  13.0         Sun   \n",
       "131655            LINK  2018-02-11  13.0         Sun   \n",
       "131656            LINK  2018-02-11  13.0         Sun   \n",
       "131657            LINK  2018-02-11  13.0         Sun   \n",
       "131658            LINK  2018-02-11  13.0         Sun   \n",
       "131659            LINK  2018-02-11  13.0         Sun   \n",
       "131660            LINK  2018-02-11  13.0         Sun   \n",
       "131661            LINK  2018-02-11  13.0         Sun   \n",
       "131662            LINK  2018-02-11  13.0         Sun   \n",
       "131663            LINK  2018-02-11  13.0         Sun   \n",
       "131664            LINK  2018-02-11  13.0         Sun   \n",
       "131665            LINK  2018-02-11  13.0         Sun   \n",
       "131666            LINK  2018-02-11  13.0         Sun   \n",
       "131667            LINK  2018-02-11  13.0         Sun   \n",
       "131668            LINK  2018-02-11  13.0         Sun   \n",
       "131669            LINK  2018-02-11  13.0         Sun   \n",
       "131670           TYPED  2018-02-11  13.0         Sun   \n",
       "131671            LINK  2018-02-11  13.0         Sun   \n",
       "131672           TYPED  2018-02-11  13.0         Sun   \n",
       "131673            LINK  2018-02-11  13.0         Sun   \n",
       "131674           TYPED  2018-02-11  13.0         Sun   \n",
       "131676            LINK  2018-02-11  13.0         Sun   \n",
       "131677            LINK  2018-02-11  13.0         Sun   \n",
       "131680            LINK  2018-02-11  13.0         Sun   \n",
       "131682            LINK  2018-02-11  13.0         Sun   \n",
       "131683            LINK  2018-02-11  13.0         Sun   \n",
       "131686            LINK  2018-02-11  13.0         Sun   \n",
       "131688            LINK  2018-02-11  13.0         Sun   \n",
       "\n",
       "                                  domain  category  \n",
       "23377                             reddit     Other  \n",
       "23378                             reddit     Other  \n",
       "23379                             reddit     Other  \n",
       "23380                             reddit     Other  \n",
       "23381                             reddit     Other  \n",
       "23382                             reddit     Other  \n",
       "23383                             reddit     Other  \n",
       "23384                             reddit     Other  \n",
       "23385                             reddit     Other  \n",
       "23386                             reddit     Other  \n",
       "23388                            ec-lyon  Learning  \n",
       "23389                            ec-lyon  Learning  \n",
       "23390                            ec-lyon  Learning  \n",
       "23391                            ec-lyon  Learning  \n",
       "23392                            ec-lyon  Learning  \n",
       "23393                            ec-lyon  Learning  \n",
       "23394                            ec-lyon  Learning  \n",
       "23395                            ec-lyon  Learning  \n",
       "23396                            ec-lyon  Learning  \n",
       "23398                            ec-lyon  Learning  \n",
       "23399                            ec-lyon  Learning  \n",
       "23400                            ec-lyon  Learning  \n",
       "23401                            ec-lyon  Learning  \n",
       "23402                            ec-lyon  Learning  \n",
       "23403                            ec-lyon  Learning  \n",
       "23404                            ec-lyon  Learning  \n",
       "23405                            ec-lyon  Learning  \n",
       "23406                            ec-lyon  Learning  \n",
       "23407                            ec-lyon  Learning  \n",
       "23408                            ec-lyon  Learning  \n",
       "...                                  ...       ...  \n",
       "131650                        allkeyshop     Other  \n",
       "131653                            cihnet     Other  \n",
       "131654                            google     Other  \n",
       "131655                            google     Other  \n",
       "131656                            google     Other  \n",
       "131657                            google     Other  \n",
       "131658                            google     Other  \n",
       "131659                            google     Other  \n",
       "131660                            google     Other  \n",
       "131661                            google     Other  \n",
       "131662                            google     Other  \n",
       "131663                            cihnet     Other  \n",
       "131664                            cihnet     Other  \n",
       "131665                            cihnet     Other  \n",
       "131666                            cihnet     Other  \n",
       "131667                            cihnet     Other  \n",
       "131668                            cihnet     Other  \n",
       "131669                            google     Other  \n",
       "131670                            google     Other  \n",
       "131671                            google     Other  \n",
       "131672                            google     Other  \n",
       "131673                            google     Other  \n",
       "131674                            google     Other  \n",
       "131676                            cihnet     Other  \n",
       "131677                            cihnet     Other  \n",
       "131680  mciiogijehkdemklbdcbfkefimifhecn     Other  \n",
       "131682  mciiogijehkdemklbdcbfkefimifhecn     Other  \n",
       "131683                          facebook    Social  \n",
       "131686                          facebook    Social  \n",
       "131688                          facebook    Social  \n",
       "\n",
       "[79215 rows x 8 columns]>"
      ]
     },
     "execution_count": 119,
     "metadata": {},
     "output_type": "execute_result"
    }
   ],
   "source": [
    "df_agg.head"
   ]
  },
  {
   "cell_type": "code",
   "execution_count": 123,
   "metadata": {},
   "outputs": [],
   "source": [
    "df_agg=df_agg[:10000]\n",
    "with open('data_out_agg.json', 'w') as f:\n",
    "    f.write(df_agg.to_json(orient='records'))"
   ]
  },
  {
   "cell_type": "code",
   "execution_count": 122,
   "metadata": {},
   "outputs": [
    {
     "data": {
      "text/plain": [
       "(79215, 8)"
      ]
     },
     "execution_count": 122,
     "metadata": {},
     "output_type": "execute_result"
    }
   ],
   "source": [
    "df_agg.shape\n",
    "#df_agg.head(20)\n",
    "#df_agg.sample(50)"
   ]
  },
  {
   "cell_type": "code",
   "execution_count": null,
   "metadata": {},
   "outputs": [],
   "source": []
  },
  {
   "cell_type": "code",
   "execution_count": null,
   "metadata": {},
   "outputs": [],
   "source": []
  }
 ],
 "metadata": {
  "kernelspec": {
   "display_name": "Python 3",
   "language": "python",
   "name": "python3"
  },
  "language_info": {
   "codemirror_mode": {
    "name": "ipython",
    "version": 3
   },
   "file_extension": ".py",
   "mimetype": "text/x-python",
   "name": "python",
   "nbconvert_exporter": "python",
   "pygments_lexer": "ipython3",
   "version": "3.7.1"
  }
 },
 "nbformat": 4,
 "nbformat_minor": 2
}
